{
 "cells": [
  {
   "cell_type": "code",
   "execution_count": 19,
   "metadata": {},
   "outputs": [
    {
     "name": "stdout",
     "output_type": "stream",
     "text": [
      "The autoreload extension is already loaded. To reload it, use:\n",
      "  %reload_ext autoreload\n"
     ]
    }
   ],
   "source": [
    "%matplotlib inline\n",
    "\n",
    "%load_ext autoreload\n",
    "%autoreload 2\n",
    "\n",
    "import os\n",
    "import pickle\n",
    "import csv\n",
    "import numpy as np\n",
    "from scipy.misc import imread\n",
    "import shutil\n",
    "import matplotlib.pyplot as plt\n",
    "\n",
    "import h5py\n",
    "from keras.applications.inception_v3 import InceptionV3, decode_predictions\n",
    "from keras.preprocessing import image\n",
    "from keras.models import Model\n",
    "from keras.layers import Dense, GlobalAveragePooling2D\n",
    "from keras import backend as K\n",
    "\n",
    "from utilities import *\n",
    "# from Dataloader import *\n",
    "# from read_images import *\n",
    "train_dir = \"data/model_train\"\n",
    "test_dir = \"data/model_test\""
   ]
  },
  {
   "cell_type": "code",
   "execution_count": 22,
   "metadata": {},
   "outputs": [
    {
     "name": "stdout",
     "output_type": "stream",
     "text": [
      "old directory removed data/model_train\n",
      "copy 34 images for whale # 1 in ordered list, called w_1287fbc\n",
      "copy 27 images for whale # 2 in ordered list, called w_98baff9\n",
      "copy 26 images for whale # 3 in ordered list, called w_7554f44\n",
      "copy 23 images for whale # 4 in ordered list, called w_1eafe46\n",
      "copy 22 images for whale # 5 in ordered list, called w_693c9ee\n",
      "copy 22 images for whale # 6 in ordered list, called w_ab4cae2\n",
      "copy 22 images for whale # 7 in ordered list, called w_fd1cb9d\n",
      "copy 21 images for whale # 8 in ordered list, called w_43be268\n",
      "copy 21 images for whale # 9 in ordered list, called w_73d5489\n",
      "copy 21 images for whale # 10 in ordered list, called w_987a36f\n"
     ]
    }
   ],
   "source": [
    "num_classes = 10\n",
    "create_small_case(sel_whales = np.arange(1,num_classes+1),          # whales to be considered\n",
    "                  small_dir = train_dir) "
   ]
  },
  {
   "cell_type": "code",
   "execution_count": 23,
   "metadata": {},
   "outputs": [
    {
     "name": "stdout",
     "output_type": "stream",
     "text": [
      "old directory removed data/model_test\n",
      "copy 34 images for whale # 1 in ordered list, called w_1287fbc\n",
      "copy 27 images for whale # 2 in ordered list, called w_98baff9\n",
      "copy 26 images for whale # 3 in ordered list, called w_7554f44\n",
      "copy 23 images for whale # 4 in ordered list, called w_1eafe46\n",
      "copy 22 images for whale # 5 in ordered list, called w_693c9ee\n",
      "copy 22 images for whale # 6 in ordered list, called w_ab4cae2\n",
      "copy 22 images for whale # 7 in ordered list, called w_fd1cb9d\n",
      "copy 21 images for whale # 8 in ordered list, called w_43be268\n",
      "copy 21 images for whale # 9 in ordered list, called w_73d5489\n",
      "copy 21 images for whale # 10 in ordered list, called w_987a36f\n"
     ]
    }
   ],
   "source": [
    "# for first testing make test directory same as train directory (no real solution !!)\n",
    "create_small_case(sel_whales = np.arange(1,num_classes+1),          # whales to be considered\n",
    "                  small_dir = test_dir)"
   ]
  },
  {
   "cell_type": "code",
   "execution_count": 30,
   "metadata": {},
   "outputs": [
    {
     "name": "stdout",
     "output_type": "stream",
     "text": [
      "Found 239 images belonging to 10 classes.\n",
      "Epoch 1/5\n",
      " - 138s - loss: 9.7552\n",
      "Epoch 2/5\n",
      " - 144s - loss: 2.9320\n",
      "Epoch 3/5\n",
      " - 135s - loss: 2.0652\n",
      "Epoch 4/5\n",
      " - 130s - loss: 1.6650\n",
      "Epoch 5/5\n",
      " - 121s - loss: 2.0017\n",
      "made label dict\n"
     ]
    }
   ],
   "source": [
    "# from convertFilestructure import *\n",
    "\n",
    "# generate image batches, replace by Keras ImageDataGenerator\n",
    "# def input_generator(batch_size=64, directory=\"./data/test\"):\n",
    "#     i = 0\n",
    "#     images = []\n",
    "#     for filename in os.listdir(directory):\n",
    "#         if i == batch_size:\n",
    "#             i = 0\n",
    "#             yield np.array(images)\n",
    "#             images = []\n",
    "#         images.append(skimage.io.imread(os.path.join(directory, filename)))\n",
    "#         i += 1\n",
    "        \n",
    "\n",
    "# Use pretrained model as described in https://keras.io/applications/\n",
    "\n",
    "\n",
    "def make_label_dict(directory=train_dir):\n",
    "    label_dict = dict()\n",
    "    for i, label in enumerate(sorted(os.listdir(directory))):\n",
    "        label_dict[i] = label\n",
    "    print(\"made label dict\")\n",
    "    return label_dict\n",
    "\n",
    "\n",
    "# def main():\n",
    "# create the base pre-trained model\n",
    "base_model = InceptionV3(weights='imagenet', include_top=False)\n",
    "\n",
    "# add a global spatial average pooling layer\n",
    "x = base_model.output\n",
    "x = GlobalAveragePooling2D()(x)\n",
    "# let's add a fully-connected layer\n",
    "x = Dense(1024, activation='relu')(x)\n",
    "# and a logistic layer\n",
    "# num_classes = 300\n",
    "# num_classes = 4251\n",
    "predictions = Dense(num_classes, activation='softmax')(x)\n",
    "\n",
    "# this is the model we will train\n",
    "model = Model(inputs=base_model.input, outputs=predictions)\n",
    "\n",
    "# first: train only the top layers (which were randomly initialized)\n",
    "# i.e. freeze all convolutional InceptionV3 layers\n",
    "for layer in base_model.layers:\n",
    "    layer.trainable = False\n",
    "\n",
    "# compile the model (should be done *after* setting layers to non-trainable)\n",
    "model.compile(optimizer='rmsprop', loss='categorical_crossentropy')\n",
    "\n",
    "# define image generator\n",
    "train_gen = image.ImageDataGenerator()\n",
    "\n",
    "# train the model on the new data for a few epochs\n",
    "model.fit_generator(train_gen.flow_from_directory(train_dir), verbose = 2,\n",
    "                    steps_per_epoch=None, epochs=5)                        \n",
    "\n",
    "# let's predict the test set to see a rough score\n",
    "labels = make_label_dict(directory=train_dir)\n",
    "\n",
    "    # at this point, the top layers are well trained and we can start fine-tuning\n",
    "    # convolutional layers from inception V3. We will freeze the bottom N layers\n",
    "    # and train the remaining top layers.\n",
    "\n",
    "    # let's visualize layer names and layer indices to see how many layers\n",
    "    # we should freeze:\n",
    "    #for i, layer in enumerate(base_model.layers):\n",
    "    #   print(i, layer.name)\n",
    "\n",
    "    # we chose to train the top 2 inception blocks, i.e. we will freeze\n",
    "    # the first 249 layers and unfreeze the rest:\n",
    "    #for layer in model.layers[:249]:\n",
    "    #   layer.trainable = False\n",
    "    #for layer in model.layers[249:]:\n",
    "    #   layer.trainable = True\n",
    "\n",
    "    # we need to recompile the model for these modifications to take effect\n",
    "    # we use SGD with a low learning rate\n",
    "    #from keras.optimizers import SGD\n",
    "    #model.compile(optimizer=SGD(lr=0.0001, momentum=0.9), loss='categorical_crossentropy')\n",
    "\n",
    "    # we train our model again (this time fine-tuning the top 2 inception blocks\n",
    "    # alongside the top Dense layers\n",
    "    #model.fit_generator(...)\n",
    "\n",
    "\n"
   ]
  },
  {
   "cell_type": "code",
   "execution_count": 31,
   "metadata": {},
   "outputs": [
    {
     "name": "stdout",
     "output_type": "stream",
     "text": [
      "Found 239 images belonging to 10 classes.\n",
      "8/8 [==============================] - 171s 21s/step\n"
     ]
    }
   ],
   "source": [
    "test_gen = image.ImageDataGenerator()\n",
    "preds = model.predict_generator(test_gen.flow_from_directory\\\n",
    "                                (test_dir, class_mode=None), verbose = 1, steps=None)\n",
    "# decode the results into a list of tuples (class, description, probability)"
   ]
  },
  {
   "cell_type": "code",
   "execution_count": 39,
   "metadata": {},
   "outputs": [
    {
     "name": "stdout",
     "output_type": "stream",
     "text": [
      "(239, 10)\n",
      "[[  1.38477849e-27   0.00000000e+00   0.00000000e+00   0.00000000e+00\n",
      "    5.73760339e-19   0.00000000e+00   1.75125950e-26   1.00000000e+00\n",
      "    1.29879905e-23   3.15279697e-20]\n",
      " [  0.00000000e+00   0.00000000e+00   0.00000000e+00   0.00000000e+00\n",
      "    2.14645392e-22   0.00000000e+00   7.07003153e-28   1.00000000e+00\n",
      "    4.10193619e-26   2.65802090e-21]\n",
      " [  5.62011409e-24   0.00000000e+00   0.00000000e+00   0.00000000e+00\n",
      "    4.04557411e-18   0.00000000e+00   5.73383425e-21   1.00000000e+00\n",
      "    1.81090373e-23   9.67122925e-19]\n",
      " [  2.17668931e-38   0.00000000e+00   0.00000000e+00   0.00000000e+00\n",
      "    1.65583387e-19   0.00000000e+00   9.25755463e-32   1.00000000e+00\n",
      "    1.15018385e-25   1.00147760e-22]\n",
      " [  4.02923917e-30   0.00000000e+00   0.00000000e+00   0.00000000e+00\n",
      "    5.69232029e-20   0.00000000e+00   5.17731652e-23   1.00000000e+00\n",
      "    4.39664329e-25   1.92066996e-18]]\n"
     ]
    }
   ],
   "source": [
    "print(preds.shape)\n",
    "print(preds[:5])"
   ]
  },
  {
   "cell_type": "code",
   "execution_count": 38,
   "metadata": {},
   "outputs": [
    {
     "name": "stdout",
     "output_type": "stream",
     "text": [
      "(239, 4)\n",
      "['w_98baff9 w_73d5489 w_fd1cb9d w_ab4cae2', 'w_98baff9 w_fd1cb9d w_73d5489 w_ab4cae2', 'w_98baff9 w_73d5489 w_fd1cb9d w_987a36f', 'w_98baff9 w_73d5489 w_fd1cb9d w_ab4cae2', 'w_98baff9 w_fd1cb9d w_73d5489 w_987a36f', 'w_98baff9 w_fd1cb9d w_73d5489 w_ab4cae2', 'w_98baff9 w_73d5489 w_fd1cb9d w_ab4cae2', 'w_98baff9 w_fd1cb9d w_ab4cae2 w_73d5489', 'w_98baff9 w_fd1cb9d w_73d5489 w_987a36f', 'w_98baff9 w_fd1cb9d w_987a36f w_73d5489', 'w_98baff9 w_fd1cb9d w_73d5489 w_ab4cae2', 'w_98baff9 w_fd1cb9d w_73d5489 w_987a36f', 'w_98baff9 w_73d5489 w_fd1cb9d w_ab4cae2', 'w_98baff9 w_fd1cb9d w_73d5489 w_ab4cae2', 'w_98baff9 w_fd1cb9d w_987a36f w_ab4cae2', 'w_98baff9 w_73d5489 w_fd1cb9d w_987a36f', 'w_98baff9 w_73d5489 w_fd1cb9d w_ab4cae2', 'w_98baff9 w_fd1cb9d w_73d5489 w_987a36f', 'w_98baff9 w_fd1cb9d w_ab4cae2 w_73d5489', 'w_98baff9 w_fd1cb9d w_73d5489 w_ab4cae2', 'w_98baff9 w_73d5489 w_987a36f w_fd1cb9d', 'w_98baff9 w_73d5489 w_fd1cb9d w_ab4cae2', 'w_98baff9 w_73d5489 w_fd1cb9d w_ab4cae2', 'w_98baff9 w_fd1cb9d w_73d5489 w_ab4cae2', 'w_98baff9 w_fd1cb9d w_73d5489 w_987a36f', 'w_98baff9 w_fd1cb9d w_73d5489 w_ab4cae2', 'w_98baff9 w_fd1cb9d w_987a36f w_73d5489', 'w_98baff9 w_fd1cb9d w_987a36f w_73d5489', 'w_98baff9 w_73d5489 w_fd1cb9d w_987a36f', 'w_98baff9 w_fd1cb9d w_73d5489 w_987a36f', 'w_98baff9 w_73d5489 w_fd1cb9d w_ab4cae2', 'w_98baff9 w_fd1cb9d w_73d5489 w_ab4cae2', 'w_98baff9 w_fd1cb9d w_1287fbc w_73d5489', 'w_98baff9 w_73d5489 w_fd1cb9d w_ab4cae2', 'w_98baff9 w_73d5489 w_fd1cb9d w_987a36f', 'w_98baff9 w_fd1cb9d w_987a36f w_73d5489', 'w_98baff9 w_fd1cb9d w_73d5489 w_1287fbc', 'w_98baff9 w_fd1cb9d w_73d5489 w_ab4cae2', 'w_98baff9 w_fd1cb9d w_73d5489 w_987a36f', 'w_98baff9 w_73d5489 w_fd1cb9d w_1287fbc', 'w_98baff9 w_73d5489 w_fd1cb9d w_ab4cae2', 'w_98baff9 w_73d5489 w_fd1cb9d w_987a36f', 'w_98baff9 w_fd1cb9d w_73d5489 w_ab4cae2', 'w_98baff9 w_fd1cb9d w_73d5489 w_1287fbc', 'w_98baff9 w_fd1cb9d w_987a36f w_73d5489', 'w_98baff9 w_fd1cb9d w_73d5489 w_ab4cae2', 'w_98baff9 w_fd1cb9d w_987a36f w_ab4cae2', 'w_98baff9 w_73d5489 w_fd1cb9d w_ab4cae2', 'w_98baff9 w_fd1cb9d w_ab4cae2 w_73d5489', 'w_98baff9 w_73d5489 w_fd1cb9d w_ab4cae2', 'w_98baff9 w_73d5489 w_fd1cb9d w_ab4cae2', 'w_98baff9 w_fd1cb9d w_987a36f w_73d5489', 'w_98baff9 w_fd1cb9d w_987a36f w_ab4cae2', 'w_98baff9 w_fd1cb9d w_73d5489 w_987a36f', 'w_98baff9 w_73d5489 w_fd1cb9d w_ab4cae2', 'w_98baff9 w_73d5489 w_fd1cb9d w_ab4cae2', 'w_98baff9 w_fd1cb9d w_73d5489 w_ab4cae2', 'w_98baff9 w_73d5489 w_ab4cae2 w_fd1cb9d', 'w_98baff9 w_fd1cb9d w_73d5489 w_987a36f', 'w_98baff9 w_fd1cb9d w_73d5489 w_987a36f', 'w_98baff9 w_73d5489 w_fd1cb9d w_ab4cae2', 'w_98baff9 w_73d5489 w_fd1cb9d w_ab4cae2', 'w_98baff9 w_fd1cb9d w_73d5489 w_ab4cae2', 'w_98baff9 w_ab4cae2 w_73d5489 w_fd1cb9d', 'w_98baff9 w_73d5489 w_fd1cb9d w_ab4cae2', 'w_98baff9 w_fd1cb9d w_73d5489 w_987a36f', 'w_98baff9 w_fd1cb9d w_73d5489 w_987a36f', 'w_98baff9 w_fd1cb9d w_73d5489 w_987a36f', 'w_98baff9 w_fd1cb9d w_987a36f w_ab4cae2', 'w_98baff9 w_fd1cb9d w_ab4cae2 w_987a36f', 'w_98baff9 w_73d5489 w_fd1cb9d w_ab4cae2', 'w_98baff9 w_73d5489 w_fd1cb9d w_987a36f', 'w_98baff9 w_73d5489 w_fd1cb9d w_ab4cae2', 'w_98baff9 w_73d5489 w_fd1cb9d w_ab4cae2', 'w_98baff9 w_fd1cb9d w_73d5489 w_ab4cae2', 'w_98baff9 w_fd1cb9d w_ab4cae2 w_73d5489', 'w_98baff9 w_fd1cb9d w_987a36f w_ab4cae2', 'w_98baff9 w_73d5489 w_fd1cb9d w_ab4cae2', 'w_98baff9 w_fd1cb9d w_73d5489 w_987a36f', 'w_98baff9 w_fd1cb9d w_73d5489 w_987a36f', 'w_98baff9 w_fd1cb9d w_73d5489 w_ab4cae2', 'w_98baff9 w_fd1cb9d w_73d5489 w_ab4cae2', 'w_98baff9 w_73d5489 w_fd1cb9d w_987a36f', 'w_98baff9 w_73d5489 w_fd1cb9d w_ab4cae2', 'w_98baff9 w_73d5489 w_fd1cb9d w_987a36f', 'w_98baff9 w_fd1cb9d w_987a36f w_ab4cae2', 'w_98baff9 w_fd1cb9d w_ab4cae2 w_987a36f', 'w_98baff9 w_fd1cb9d w_ab4cae2 w_987a36f', 'w_98baff9 w_fd1cb9d w_ab4cae2 w_987a36f', 'w_98baff9 w_fd1cb9d w_73d5489 w_ab4cae2', 'w_98baff9 w_73d5489 w_fd1cb9d w_ab4cae2', 'w_98baff9 w_987a36f w_fd1cb9d w_73d5489', 'w_98baff9 w_73d5489 w_1287fbc w_fd1cb9d', 'w_98baff9 w_fd1cb9d w_73d5489 w_987a36f', 'w_98baff9 w_fd1cb9d w_73d5489 w_ab4cae2', 'w_98baff9 w_73d5489 w_fd1cb9d w_ab4cae2', 'w_98baff9 w_73d5489 w_fd1cb9d w_ab4cae2', 'w_98baff9 w_73d5489 w_fd1cb9d w_ab4cae2', 'w_98baff9 w_fd1cb9d w_73d5489 w_987a36f', 'w_98baff9 w_fd1cb9d w_ab4cae2 w_987a36f', 'w_98baff9 w_fd1cb9d w_987a36f w_ab4cae2', 'w_98baff9 w_fd1cb9d w_ab4cae2 w_1287fbc', 'w_98baff9 w_fd1cb9d w_73d5489 w_ab4cae2', 'w_98baff9 w_73d5489 w_fd1cb9d w_ab4cae2', 'w_98baff9 w_73d5489 w_fd1cb9d w_ab4cae2', 'w_98baff9 w_73d5489 w_fd1cb9d w_ab4cae2', 'w_98baff9 w_73d5489 w_fd1cb9d w_ab4cae2', 'w_98baff9 w_fd1cb9d w_73d5489 w_ab4cae2', 'w_98baff9 w_fd1cb9d w_987a36f w_ab4cae2', 'w_98baff9 w_fd1cb9d w_73d5489 w_987a36f', 'w_98baff9 w_73d5489 w_fd1cb9d w_ab4cae2', 'w_98baff9 w_73d5489 w_fd1cb9d w_ab4cae2', 'w_98baff9 w_fd1cb9d w_73d5489 w_ab4cae2', 'w_98baff9 w_73d5489 w_fd1cb9d w_ab4cae2', 'w_98baff9 w_fd1cb9d w_73d5489 w_ab4cae2', 'w_98baff9 w_73d5489 w_fd1cb9d w_ab4cae2', 'w_98baff9 w_fd1cb9d w_73d5489 w_987a36f', 'w_98baff9 w_fd1cb9d w_987a36f w_73d5489', 'w_98baff9 w_ab4cae2 w_fd1cb9d w_73d5489', 'w_98baff9 w_fd1cb9d w_ab4cae2 w_987a36f', 'w_98baff9 w_fd1cb9d w_987a36f w_73d5489', 'w_98baff9 w_fd1cb9d w_73d5489 w_987a36f', 'w_98baff9 w_fd1cb9d w_ab4cae2 w_987a36f', 'w_98baff9 w_fd1cb9d w_73d5489 w_987a36f', 'w_98baff9 w_fd1cb9d w_987a36f w_73d5489', 'w_98baff9 w_fd1cb9d w_73d5489 w_987a36f', 'w_98baff9 w_73d5489 w_fd1cb9d w_987a36f', 'w_98baff9 w_73d5489 w_fd1cb9d w_ab4cae2', 'w_98baff9 w_73d5489 w_fd1cb9d w_987a36f', 'w_98baff9 w_fd1cb9d w_73d5489 w_987a36f', 'w_98baff9 w_fd1cb9d w_73d5489 w_987a36f', 'w_98baff9 w_73d5489 w_fd1cb9d w_ab4cae2', 'w_98baff9 w_73d5489 w_fd1cb9d w_ab4cae2', 'w_98baff9 w_73d5489 w_fd1cb9d w_987a36f', 'w_98baff9 w_73d5489 w_fd1cb9d w_ab4cae2', 'w_98baff9 w_fd1cb9d w_73d5489 w_987a36f', 'w_98baff9 w_73d5489 w_fd1cb9d w_ab4cae2', 'w_98baff9 w_73d5489 w_fd1cb9d w_ab4cae2', 'w_98baff9 w_fd1cb9d w_73d5489 w_ab4cae2', 'w_98baff9 w_73d5489 w_fd1cb9d w_ab4cae2', 'w_98baff9 w_fd1cb9d w_73d5489 w_987a36f', 'w_98baff9 w_fd1cb9d w_73d5489 w_987a36f', 'w_98baff9 w_73d5489 w_fd1cb9d w_ab4cae2', 'w_98baff9 w_fd1cb9d w_73d5489 w_987a36f', 'w_98baff9 w_73d5489 w_fd1cb9d w_ab4cae2', 'w_98baff9 w_1287fbc w_73d5489 w_fd1cb9d', 'w_98baff9 w_fd1cb9d w_987a36f w_ab4cae2', 'w_98baff9 w_73d5489 w_fd1cb9d w_ab4cae2', 'w_98baff9 w_fd1cb9d w_73d5489 w_987a36f', 'w_98baff9 w_fd1cb9d w_73d5489 w_987a36f', 'w_98baff9 w_fd1cb9d w_73d5489 w_987a36f', 'w_98baff9 w_fd1cb9d w_73d5489 w_987a36f', 'w_98baff9 w_fd1cb9d w_73d5489 w_ab4cae2', 'w_98baff9 w_fd1cb9d w_73d5489 w_ab4cae2', 'w_98baff9 w_73d5489 w_fd1cb9d w_ab4cae2', 'w_98baff9 w_fd1cb9d w_ab4cae2 w_987a36f', 'w_98baff9 w_73d5489 w_fd1cb9d w_ab4cae2', 'w_98baff9 w_73d5489 w_fd1cb9d w_ab4cae2', 'w_98baff9 w_fd1cb9d w_73d5489 w_987a36f', 'w_98baff9 w_fd1cb9d w_73d5489 w_ab4cae2', 'w_98baff9 w_73d5489 w_fd1cb9d w_987a36f', 'w_98baff9 w_fd1cb9d w_73d5489 w_987a36f', 'w_98baff9 w_73d5489 w_fd1cb9d w_ab4cae2', 'w_98baff9 w_ab4cae2 w_fd1cb9d w_73d5489', 'w_98baff9 w_73d5489 w_fd1cb9d w_ab4cae2', 'w_98baff9 w_fd1cb9d w_73d5489 w_ab4cae2', 'w_98baff9 w_73d5489 w_fd1cb9d w_1287fbc', 'w_98baff9 w_fd1cb9d w_73d5489 w_1287fbc', 'w_98baff9 w_73d5489 w_fd1cb9d w_ab4cae2', 'w_98baff9 w_73d5489 w_fd1cb9d w_987a36f', 'w_98baff9 w_73d5489 w_fd1cb9d w_987a36f', 'w_98baff9 w_fd1cb9d w_1287fbc w_73d5489', 'w_98baff9 w_fd1cb9d w_73d5489 w_987a36f', 'w_98baff9 w_73d5489 w_fd1cb9d w_1287fbc', 'w_98baff9 w_fd1cb9d w_987a36f w_73d5489', 'w_98baff9 w_fd1cb9d w_ab4cae2 w_73d5489', 'w_98baff9 w_73d5489 w_fd1cb9d w_987a36f', 'w_98baff9 w_73d5489 w_fd1cb9d w_ab4cae2', 'w_98baff9 w_73d5489 w_fd1cb9d w_ab4cae2', 'w_98baff9 w_fd1cb9d w_73d5489 w_987a36f', 'w_98baff9 w_73d5489 w_fd1cb9d w_ab4cae2', 'w_98baff9 w_fd1cb9d w_73d5489 w_987a36f', 'w_98baff9 w_fd1cb9d w_987a36f w_1287fbc', 'w_98baff9 w_fd1cb9d w_73d5489 w_ab4cae2', 'w_98baff9 w_fd1cb9d w_73d5489 w_ab4cae2', 'w_98baff9 w_fd1cb9d w_987a36f w_73d5489', 'w_98baff9 w_ab4cae2 w_73d5489 w_fd1cb9d', 'w_98baff9 w_fd1cb9d w_73d5489 w_ab4cae2', 'w_98baff9 w_fd1cb9d w_ab4cae2 w_987a36f', 'w_98baff9 w_fd1cb9d w_73d5489 w_987a36f', 'w_98baff9 w_73d5489 w_fd1cb9d w_ab4cae2', 'w_98baff9 w_fd1cb9d w_987a36f w_ab4cae2', 'w_98baff9 w_73d5489 w_ab4cae2 w_fd1cb9d', 'w_98baff9 w_fd1cb9d w_1287fbc w_ab4cae2', 'w_98baff9 w_fd1cb9d w_73d5489 w_ab4cae2', 'w_98baff9 w_fd1cb9d w_73d5489 w_987a36f', 'w_98baff9 w_fd1cb9d w_73d5489 w_ab4cae2', 'w_98baff9 w_fd1cb9d w_73d5489 w_ab4cae2', 'w_98baff9 w_73d5489 w_fd1cb9d w_987a36f', 'w_98baff9 w_fd1cb9d w_ab4cae2 w_73d5489', 'w_98baff9 w_fd1cb9d w_987a36f w_ab4cae2', 'w_98baff9 w_fd1cb9d w_73d5489 w_987a36f', 'w_98baff9 w_73d5489 w_fd1cb9d w_987a36f', 'w_98baff9 w_fd1cb9d w_987a36f w_73d5489', 'w_98baff9 w_fd1cb9d w_73d5489 w_ab4cae2', 'w_98baff9 w_73d5489 w_fd1cb9d w_ab4cae2', 'w_98baff9 w_73d5489 w_fd1cb9d w_ab4cae2', 'w_98baff9 w_73d5489 w_fd1cb9d w_ab4cae2', 'w_98baff9 w_fd1cb9d w_ab4cae2 w_987a36f', 'w_98baff9 w_73d5489 w_fd1cb9d w_ab4cae2', 'w_98baff9 w_fd1cb9d w_73d5489 w_987a36f', 'w_98baff9 w_73d5489 w_fd1cb9d w_ab4cae2', 'w_98baff9 w_fd1cb9d w_73d5489 w_ab4cae2', 'w_98baff9 w_73d5489 w_fd1cb9d w_987a36f', 'w_98baff9 w_fd1cb9d w_73d5489 w_ab4cae2', 'w_98baff9 w_fd1cb9d w_73d5489 w_987a36f', 'w_98baff9 w_fd1cb9d w_73d5489 w_ab4cae2', 'w_98baff9 w_73d5489 w_fd1cb9d w_ab4cae2', 'w_98baff9 w_73d5489 w_fd1cb9d w_1287fbc', 'w_98baff9 w_fd1cb9d w_ab4cae2 w_987a36f', 'w_98baff9 w_73d5489 w_fd1cb9d w_987a36f', 'w_98baff9 w_fd1cb9d w_73d5489 w_987a36f', 'w_98baff9 w_73d5489 w_fd1cb9d w_987a36f', 'w_98baff9 w_73d5489 w_fd1cb9d w_ab4cae2', 'w_98baff9 w_73d5489 w_fd1cb9d w_ab4cae2', 'w_98baff9 w_73d5489 w_fd1cb9d w_987a36f', 'w_98baff9 w_73d5489 w_fd1cb9d w_ab4cae2', 'w_98baff9 w_fd1cb9d w_73d5489 w_987a36f', 'w_98baff9 w_73d5489 w_fd1cb9d w_987a36f', 'w_98baff9 w_fd1cb9d w_73d5489 w_ab4cae2', 'w_98baff9 w_fd1cb9d w_ab4cae2 w_1287fbc', 'w_98baff9 w_fd1cb9d w_73d5489 w_987a36f', 'w_98baff9 w_73d5489 w_fd1cb9d w_ab4cae2', 'w_98baff9 w_73d5489 w_fd1cb9d w_ab4cae2', 'w_98baff9 w_73d5489 w_fd1cb9d w_ab4cae2', 'w_98baff9 w_73d5489 w_fd1cb9d w_987a36f', 'w_98baff9 w_fd1cb9d w_73d5489 w_987a36f', 'w_98baff9 w_fd1cb9d w_73d5489 w_987a36f', 'w_98baff9 w_73d5489 w_987a36f w_fd1cb9d']\n"
     ]
    }
   ],
   "source": [
    "top_k = preds.argsort()[:, -4:][:, ::-1]\n",
    "classes = [\" \".join([labels[i] for i in line]) for line in top_k]\n",
    "print(top_k.shape)\n",
    "print(classes)\n",
    "\n",
    "# filenames = test_gen.filenames\n",
    "# csv_list = zip(filenames, classes)\n",
    "# write_csv(csv_list, file_name=\"submission.csv\")"
   ]
  },
  {
   "cell_type": "code",
   "execution_count": null,
   "metadata": {},
   "outputs": [],
   "source": []
  }
 ],
 "metadata": {
  "kernelspec": {
   "display_name": "Python 3",
   "language": "python",
   "name": "python3"
  },
  "language_info": {
   "codemirror_mode": {
    "name": "ipython",
    "version": 3
   },
   "file_extension": ".py",
   "mimetype": "text/x-python",
   "name": "python",
   "nbconvert_exporter": "python",
   "pygments_lexer": "ipython3",
   "version": "3.5.2"
  }
 },
 "nbformat": 4,
 "nbformat_minor": 1
}

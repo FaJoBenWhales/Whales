{
 "cells": [
  {
   "cell_type": "code",
   "execution_count": 5,
   "metadata": {},
   "outputs": [
    {
     "name": "stdout",
     "output_type": "stream",
     "text": [
      "The autoreload extension is already loaded. To reload it, use:\n",
      "  %reload_ext autoreload\n"
     ]
    }
   ],
   "source": [
    "%load_ext autoreload\n",
    "%autoreload 2\n",
    "from keras_model import *"
   ]
  },
  {
   "cell_type": "code",
   "execution_count": null,
   "metadata": {},
   "outputs": [],
   "source": [
    "model = create_pretrained_model(num_classes = 3, base_mod='InceptionV3')\n",
    "#model = create_pretrained_model(num_classes = 3, base_mod='Xception')\n",
    "#model = create_pretrained_model(num_classes = 3, base_mod='InceptionV3')\n",
    "#model = create_pretrained_model(num_classes = 3, base_mod='MobileNet')\n",
    "#model = create_pretrained_model(num_classes = 3, base_mod='InceptionResNetV2'"
   ]
  },
  {
   "cell_type": "code",
   "execution_count": null,
   "metadata": {},
   "outputs": [],
   "source": [
    "hist = train(model, epochs=5, cnn_epochs = 0, num_classes=3, save_path=None, batch_size=8)"
   ]
  },
  {
   "cell_type": "code",
   "execution_count": null,
   "metadata": {},
   "outputs": [],
   "source": []
  },
  {
   "cell_type": "code",
   "execution_count": null,
   "metadata": {},
   "outputs": [],
   "source": []
  },
  {
   "cell_type": "code",
   "execution_count": 2,
   "metadata": {
    "scrolled": false
   },
   "outputs": [
    {
     "name": "stdout",
     "output_type": "stream",
     "text": [
      "created InceptionResNetV2\n",
      "successfuly created model:  InceptionResNetV2\n"
     ]
    }
   ],
   "source": []
  },
  {
   "cell_type": "code",
   "execution_count": 12,
   "metadata": {},
   "outputs": [],
   "source": [
    "tools.visualize_model(model, filename=\"InceptionResNetV2gaga.png\")"
   ]
  },
  {
   "cell_type": "code",
   "execution_count": 11,
   "metadata": {},
   "outputs": [
    {
     "name": "stdout",
     "output_type": "stream",
     "text": [
      "InceptionResNetV2\n"
     ]
    }
   ],
   "source": [
    "print(model.name)"
   ]
  },
  {
   "cell_type": "code",
   "execution_count": null,
   "metadata": {},
   "outputs": [],
   "source": []
  },
  {
   "cell_type": "code",
   "execution_count": 12,
   "metadata": {},
   "outputs": [
    {
     "data": {
      "image/png": "[encoded data removed]",
      "text/plain": [
       "<matplotlib.figure.Figure at 0x7f959112db38>"
      ]
     },
     "metadata": {},
     "output_type": "display_data"
    },
    {
     "data": {
      "image/png": "[encoded data removed]",
      "text/plain": [
       "<matplotlib.figure.Figure at 0x7f9590fa0c50>"
      ]
     },
     "metadata": {},
     "output_type": "display_data"
    }
   ],
   "source": [
    "tools.save_learning_curves(hist, \"gaga\", base_path=\"test_plots/\")"
   ]
  },
  {
   "cell_type": "code",
   "execution_count": 14,
   "metadata": {},
   "outputs": [
    {
     "name": "stdout",
     "output_type": "stream",
     "text": [
      "old directory removed data/model_test\n",
      "copy 34 images for whale # 1, called w_1287fbc\n",
      "copy 27 images for whale # 2, called w_98baff9\n",
      "copy 26 images for whale # 3, called w_7554f44\n",
      "copy 23 images for whale # 4, called w_1eafe46\n",
      "copy 22 images for whale # 5, called w_693c9ee\n",
      "copy 22 images for whale # 6, called w_ab4cae2\n",
      "copy 22 images for whale # 7, called w_fd1cb9d\n",
      "copy 21 images for whale # 8, called w_43be268\n",
      "copy 21 images for whale # 9, called w_73d5489\n",
      "copy 21 images for whale # 10, called w_987a36f\n",
      "239  images of  10  whales copied in total\n",
      "Target Directory train:  data/model_test  validation:  None\n",
      "239  images copied as training data\n",
      "0  images copied as validation data\n",
      "write csv file with training data: data/model_test.csv\n",
      "Found 239 images belonging to 10 classes.\n",
      "15/15 [==============================] - 268s 18s/step\n",
      "whale_class_map:\n",
      "{'w_98baff9': 7, 'w_43be268': 2, 'w_7554f44': 5, 'w_1287fbc': 0, 'w_ab4cae2': 8, 'w_73d5489': 4, 'w_693c9ee': 3, 'w_1eafe46': 1, 'w_987a36f': 6, 'w_fd1cb9d': 9}\n",
      "class_whale_map:\n",
      "{0: 'w_1287fbc', 1: 'w_1eafe46', 2: 'w_43be268', 3: 'w_693c9ee', 4: 'w_73d5489', 5: 'w_7554f44', 6: 'w_987a36f', 7: 'w_98baff9', 8: 'w_ab4cae2', 9: 'w_fd1cb9d'}\n",
      "preds.shape:\n",
      "(239, 10)\n",
      "preds[:10]\n",
      "[[ 0.1321087   0.10131001  0.10098648  0.13277815  0.05276346  0.03897034\n",
      "   0.03050187  0.20106231  0.03270185  0.17681684]\n",
      " [ 0.1278905   0.06341144  0.08451437  0.12965685  0.05079319  0.041535\n",
      "   0.02910141  0.25580901  0.02114375  0.19614451]\n",
      " [ 0.13435446  0.10028937  0.10233179  0.12509702  0.06338547  0.05180354\n",
      "   0.0525773   0.18139733  0.04910177  0.13966194]\n",
      " [ 0.12482715  0.1247958   0.11898169  0.11718915  0.06366895  0.05472282\n",
      "   0.06538109  0.14825585  0.05795269  0.1242249 ]\n",
      " [ 0.12559262  0.08470077  0.11287562  0.12722316  0.07075314  0.06005772\n",
      "   0.05777516  0.171809    0.05423811  0.13497469]\n",
      " [ 0.1238889   0.11154559  0.10982774  0.1321854   0.05425574  0.0526334\n",
      "   0.05995094  0.17017098  0.0560061   0.12953527]\n",
      " [ 0.15542026  0.08285955  0.11444724  0.13058512  0.05890417  0.04832053\n",
      "   0.04334852  0.17036554  0.04072878  0.1550203 ]\n",
      " [ 0.13938558  0.11781888  0.11044694  0.12008546  0.06957456  0.04638827\n",
      "   0.06316604  0.15089376  0.05462263  0.12761796]\n",
      " [ 0.13098134  0.09528621  0.10994896  0.1303366   0.059133    0.0540429\n",
      "   0.05470086  0.18296367  0.05384598  0.1287605 ]\n",
      " [ 0.12615009  0.10722747  0.11751048  0.11938913  0.0654789   0.05796473\n",
      "   0.06382973  0.15517254  0.05609912  0.13117775]]\n",
      "model predictions: \n",
      " [['w_98baff9' 'w_fd1cb9d' 'w_693c9ee' 'w_1287fbc' 'w_1eafe46']\n",
      " ['w_98baff9' 'w_fd1cb9d' 'w_693c9ee' 'w_1287fbc' 'w_43be268']\n",
      " ['w_98baff9' 'w_fd1cb9d' 'w_1287fbc' 'w_693c9ee' 'w_43be268']\n",
      " ['w_98baff9' 'w_1287fbc' 'w_1eafe46' 'w_fd1cb9d' 'w_43be268']\n",
      " ['w_98baff9' 'w_fd1cb9d' 'w_693c9ee' 'w_1287fbc' 'w_43be268']\n",
      " ['w_98baff9' 'w_693c9ee' 'w_fd1cb9d' 'w_1287fbc' 'w_1eafe46']\n",
      " ['w_98baff9' 'w_1287fbc' 'w_fd1cb9d' 'w_693c9ee' 'w_43be268']\n",
      " ['w_98baff9' 'w_1287fbc' 'w_fd1cb9d' 'w_693c9ee' 'w_1eafe46']\n",
      " ['w_98baff9' 'w_1287fbc' 'w_693c9ee' 'w_fd1cb9d' 'w_43be268']\n",
      " ['w_98baff9' 'w_fd1cb9d' 'w_1287fbc' 'w_693c9ee' 'w_43be268']]\n",
      "true labels \n",
      " ['w_1287fbc' 'w_1287fbc' 'w_1287fbc' 'w_1287fbc' 'w_1287fbc' 'w_1287fbc'\n",
      " 'w_1287fbc' 'w_1287fbc' 'w_1287fbc' 'w_1287fbc']\n",
      "26 true predictions out of 239: accurracy: 0.1087866108786611 \n",
      "MAP 0.244281729428\n",
      "MAP of Dummy Model averaged over 5 runs:  0.203905160391\n"
     ]
    }
   ],
   "source": [
    "tools.print_model_test_info(model, num_classes=5)"
   ]
  },
  {
   "cell_type": "code",
   "execution_count": null,
   "metadata": {},
   "outputs": [],
   "source": []
  }
 ],
 "metadata": {
  "kernelspec": {
   "display_name": "Python 3",
   "language": "python",
   "name": "python3"
  },
  "language_info": {
   "codemirror_mode": {
    "name": "ipython",
    "version": 3
   },
   "file_extension": ".py",
   "mimetype": "text/x-python",
   "name": "python",
   "nbconvert_exporter": "python",
   "pygments_lexer": "ipython3",
   "version": "3.5.2"
  }
 },
 "nbformat": 4,
 "nbformat_minor": 1
}
